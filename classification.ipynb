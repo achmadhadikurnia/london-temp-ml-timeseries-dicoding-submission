{
  "cells": [
    {
      "cell_type": "markdown",
      "metadata": {
        "id": "lZ2uZWaSghgK"
      },
      "source": [
        "# **Membuat Model NLP dengan TensorFlow**\n",
        "## Emotion Classification using NLP"
      ]
    },
    {
      "cell_type": "markdown",
      "metadata": {
        "id": "pmieBFiALoDd"
      },
      "source": [
        "## Profile\n",
        "\n",
        "**Achmad Hadi Kurnia**\n",
        "\n",
        "Link [Dicoding](https://www.dicoding.com/users/achmadhadikurnia)"
      ]
    },
    {
      "cell_type": "markdown",
      "metadata": {
        "id": "j6xW90JML5Nn"
      },
      "source": [
        "## Kriteria\n",
        "- [x] Dataset yang akan dipakai bebas, namun minimal memiliki 1000 sampel.\n",
        "- [x] Harus menggunakan LSTM dalam arsitektur model.\n",
        "- [x] Harus menggunakan model sequential.\n",
        "- [x] Validation set sebesar 20% dari total dataset.\n",
        "- [x] Harus menggunakan Embedding.\n",
        "- [x] Harus menggunakan fungsi tokenizer.\n",
        "- [x] Akurasi dari model minimal 75% pada train set dan validation set."
      ]
    },
    {
      "cell_type": "markdown",
      "metadata": {
        "id": "CmgL9JTC-Tmu"
      },
      "source": [
        "## Saran untuk Penilaian Lebih Tinggi\n",
        "- [x] Akurasi dari model di atas 80%.\n",
        "- [x] Mengimplementasikan callback.\n",
        "- [x] Membuat plot loss dan akurasi pada saat training dan validation."
      ]
    },
    {
      "cell_type": "markdown",
      "metadata": {
        "id": "kB9-rWXDPz2c"
      },
      "source": [
        "### 1. Setup Kebutuhan"
      ]
    },
    {
      "cell_type": "code",
      "execution_count": 1,
      "metadata": {
        "colab": {
          "base_uri": "https://localhost:8080/"
        },
        "id": "dDKipWZ-2oto",
        "outputId": "f82c541d-e7fe-4f56-e486-a9855c935092"
      },
      "outputs": [
        {
          "output_type": "stream",
          "name": "stdout",
          "text": [
            "--2023-12-21 03:46:08--  https://raw.githubusercontent.com/achmadhadikurnia/emotion-classification-nlp-dicoding-submission/main/datasets/data.csv\n",
            "Resolving raw.githubusercontent.com (raw.githubusercontent.com)... 185.199.110.133, 185.199.111.133, 185.199.109.133, ...\n",
            "Connecting to raw.githubusercontent.com (raw.githubusercontent.com)|185.199.110.133|:443... connected.\n",
            "HTTP request sent, awaiting response... 200 OK\n",
            "Length: 1658626 (1.6M) [text/plain]\n",
            "Saving to: ‘data.csv’\n",
            "\n",
            "data.csv            100%[===================>]   1.58M  --.-KB/s    in 0.06s   \n",
            "\n",
            "2023-12-21 03:46:08 (28.3 MB/s) - ‘data.csv’ saved [1658626/1658626]\n",
            "\n"
          ]
        }
      ],
      "source": [
        "# Unduh dataset\n",
        "!wget https://raw.githubusercontent.com/achmadhadikurnia/emotion-classification-nlp-dicoding-submission/main/datasets/data.csv\n",
        "\n",
        "# Impor libary\n",
        "import pandas as pd\n",
        "import tensorflow as tf\n",
        "import matplotlib.pyplot as plt\n",
        "\n",
        "from sklearn.model_selection import train_test_split\n",
        "from tensorflow.keras.preprocessing.text import Tokenizer\n",
        "from tensorflow.keras.preprocessing.sequence import pad_sequences"
      ]
    },
    {
      "cell_type": "markdown",
      "metadata": {
        "id": "OzyeV-_A_w6S"
      },
      "source": [
        "### 2. Menyiapkan data"
      ]
    },
    {
      "cell_type": "code",
      "execution_count": 2,
      "metadata": {
        "id": "hK_yttD-VGNb",
        "colab": {
          "base_uri": "https://localhost:8080/",
          "height": 424
        },
        "outputId": "d2e8a6bf-35bf-4426-b9d2-c0e1f0008cdc"
      },
      "outputs": [
        {
          "output_type": "execute_result",
          "data": {
            "text/plain": [
              "                                                    text  anger  fear  joy  \\\n",
              "0                                i didnt feel humiliated      0     0    0   \n",
              "1      i can go from feeling so hopeless to so damned...      0     0    0   \n",
              "2       im grabbing a minute to post i feel greedy wrong      1     0    0   \n",
              "3      i am ever feeling nostalgic about the fireplac...      0     0    0   \n",
              "4                                   i am feeling grouchy      1     0    0   \n",
              "...                                                  ...    ...   ...  ...   \n",
              "15995  i just had a very brief time in the beanbag an...      0     0    0   \n",
              "15996  i am now turning and i feel pathetic that i am...      0     0    0   \n",
              "15997                     i feel strong and good overall      0     0    1   \n",
              "15998  i feel like this was such a rude comment and i...      1     0    0   \n",
              "15999  i know a lot but i feel so stupid because i ca...      0     0    0   \n",
              "\n",
              "       love  sadness  surprise  \n",
              "0         0        1         0  \n",
              "1         0        1         0  \n",
              "2         0        0         0  \n",
              "3         1        0         0  \n",
              "4         0        0         0  \n",
              "...     ...      ...       ...  \n",
              "15995     0        1         0  \n",
              "15996     0        1         0  \n",
              "15997     0        0         0  \n",
              "15998     0        0         0  \n",
              "15999     0        1         0  \n",
              "\n",
              "[16000 rows x 7 columns]"
            ],
            "text/html": [
              "\n",
              "  <div id=\"df-a1a233eb-6fbe-4998-9046-423e9f9f33a8\" class=\"colab-df-container\">\n",
              "    <div>\n",
              "<style scoped>\n",
              "    .dataframe tbody tr th:only-of-type {\n",
              "        vertical-align: middle;\n",
              "    }\n",
              "\n",
              "    .dataframe tbody tr th {\n",
              "        vertical-align: top;\n",
              "    }\n",
              "\n",
              "    .dataframe thead th {\n",
              "        text-align: right;\n",
              "    }\n",
              "</style>\n",
              "<table border=\"1\" class=\"dataframe\">\n",
              "  <thead>\n",
              "    <tr style=\"text-align: right;\">\n",
              "      <th></th>\n",
              "      <th>text</th>\n",
              "      <th>anger</th>\n",
              "      <th>fear</th>\n",
              "      <th>joy</th>\n",
              "      <th>love</th>\n",
              "      <th>sadness</th>\n",
              "      <th>surprise</th>\n",
              "    </tr>\n",
              "  </thead>\n",
              "  <tbody>\n",
              "    <tr>\n",
              "      <th>0</th>\n",
              "      <td>i didnt feel humiliated</td>\n",
              "      <td>0</td>\n",
              "      <td>0</td>\n",
              "      <td>0</td>\n",
              "      <td>0</td>\n",
              "      <td>1</td>\n",
              "      <td>0</td>\n",
              "    </tr>\n",
              "    <tr>\n",
              "      <th>1</th>\n",
              "      <td>i can go from feeling so hopeless to so damned...</td>\n",
              "      <td>0</td>\n",
              "      <td>0</td>\n",
              "      <td>0</td>\n",
              "      <td>0</td>\n",
              "      <td>1</td>\n",
              "      <td>0</td>\n",
              "    </tr>\n",
              "    <tr>\n",
              "      <th>2</th>\n",
              "      <td>im grabbing a minute to post i feel greedy wrong</td>\n",
              "      <td>1</td>\n",
              "      <td>0</td>\n",
              "      <td>0</td>\n",
              "      <td>0</td>\n",
              "      <td>0</td>\n",
              "      <td>0</td>\n",
              "    </tr>\n",
              "    <tr>\n",
              "      <th>3</th>\n",
              "      <td>i am ever feeling nostalgic about the fireplac...</td>\n",
              "      <td>0</td>\n",
              "      <td>0</td>\n",
              "      <td>0</td>\n",
              "      <td>1</td>\n",
              "      <td>0</td>\n",
              "      <td>0</td>\n",
              "    </tr>\n",
              "    <tr>\n",
              "      <th>4</th>\n",
              "      <td>i am feeling grouchy</td>\n",
              "      <td>1</td>\n",
              "      <td>0</td>\n",
              "      <td>0</td>\n",
              "      <td>0</td>\n",
              "      <td>0</td>\n",
              "      <td>0</td>\n",
              "    </tr>\n",
              "    <tr>\n",
              "      <th>...</th>\n",
              "      <td>...</td>\n",
              "      <td>...</td>\n",
              "      <td>...</td>\n",
              "      <td>...</td>\n",
              "      <td>...</td>\n",
              "      <td>...</td>\n",
              "      <td>...</td>\n",
              "    </tr>\n",
              "    <tr>\n",
              "      <th>15995</th>\n",
              "      <td>i just had a very brief time in the beanbag an...</td>\n",
              "      <td>0</td>\n",
              "      <td>0</td>\n",
              "      <td>0</td>\n",
              "      <td>0</td>\n",
              "      <td>1</td>\n",
              "      <td>0</td>\n",
              "    </tr>\n",
              "    <tr>\n",
              "      <th>15996</th>\n",
              "      <td>i am now turning and i feel pathetic that i am...</td>\n",
              "      <td>0</td>\n",
              "      <td>0</td>\n",
              "      <td>0</td>\n",
              "      <td>0</td>\n",
              "      <td>1</td>\n",
              "      <td>0</td>\n",
              "    </tr>\n",
              "    <tr>\n",
              "      <th>15997</th>\n",
              "      <td>i feel strong and good overall</td>\n",
              "      <td>0</td>\n",
              "      <td>0</td>\n",
              "      <td>1</td>\n",
              "      <td>0</td>\n",
              "      <td>0</td>\n",
              "      <td>0</td>\n",
              "    </tr>\n",
              "    <tr>\n",
              "      <th>15998</th>\n",
              "      <td>i feel like this was such a rude comment and i...</td>\n",
              "      <td>1</td>\n",
              "      <td>0</td>\n",
              "      <td>0</td>\n",
              "      <td>0</td>\n",
              "      <td>0</td>\n",
              "      <td>0</td>\n",
              "    </tr>\n",
              "    <tr>\n",
              "      <th>15999</th>\n",
              "      <td>i know a lot but i feel so stupid because i ca...</td>\n",
              "      <td>0</td>\n",
              "      <td>0</td>\n",
              "      <td>0</td>\n",
              "      <td>0</td>\n",
              "      <td>1</td>\n",
              "      <td>0</td>\n",
              "    </tr>\n",
              "  </tbody>\n",
              "</table>\n",
              "<p>16000 rows × 7 columns</p>\n",
              "</div>\n",
              "    <div class=\"colab-df-buttons\">\n",
              "\n",
              "  <div class=\"colab-df-container\">\n",
              "    <button class=\"colab-df-convert\" onclick=\"convertToInteractive('df-a1a233eb-6fbe-4998-9046-423e9f9f33a8')\"\n",
              "            title=\"Convert this dataframe to an interactive table.\"\n",
              "            style=\"display:none;\">\n",
              "\n",
              "  <svg xmlns=\"http://www.w3.org/2000/svg\" height=\"24px\" viewBox=\"0 -960 960 960\">\n",
              "    <path d=\"M120-120v-720h720v720H120Zm60-500h600v-160H180v160Zm220 220h160v-160H400v160Zm0 220h160v-160H400v160ZM180-400h160v-160H180v160Zm440 0h160v-160H620v160ZM180-180h160v-160H180v160Zm440 0h160v-160H620v160Z\"/>\n",
              "  </svg>\n",
              "    </button>\n",
              "\n",
              "  <style>\n",
              "    .colab-df-container {\n",
              "      display:flex;\n",
              "      gap: 12px;\n",
              "    }\n",
              "\n",
              "    .colab-df-convert {\n",
              "      background-color: #E8F0FE;\n",
              "      border: none;\n",
              "      border-radius: 50%;\n",
              "      cursor: pointer;\n",
              "      display: none;\n",
              "      fill: #1967D2;\n",
              "      height: 32px;\n",
              "      padding: 0 0 0 0;\n",
              "      width: 32px;\n",
              "    }\n",
              "\n",
              "    .colab-df-convert:hover {\n",
              "      background-color: #E2EBFA;\n",
              "      box-shadow: 0px 1px 2px rgba(60, 64, 67, 0.3), 0px 1px 3px 1px rgba(60, 64, 67, 0.15);\n",
              "      fill: #174EA6;\n",
              "    }\n",
              "\n",
              "    .colab-df-buttons div {\n",
              "      margin-bottom: 4px;\n",
              "    }\n",
              "\n",
              "    [theme=dark] .colab-df-convert {\n",
              "      background-color: #3B4455;\n",
              "      fill: #D2E3FC;\n",
              "    }\n",
              "\n",
              "    [theme=dark] .colab-df-convert:hover {\n",
              "      background-color: #434B5C;\n",
              "      box-shadow: 0px 1px 3px 1px rgba(0, 0, 0, 0.15);\n",
              "      filter: drop-shadow(0px 1px 2px rgba(0, 0, 0, 0.3));\n",
              "      fill: #FFFFFF;\n",
              "    }\n",
              "  </style>\n",
              "\n",
              "    <script>\n",
              "      const buttonEl =\n",
              "        document.querySelector('#df-a1a233eb-6fbe-4998-9046-423e9f9f33a8 button.colab-df-convert');\n",
              "      buttonEl.style.display =\n",
              "        google.colab.kernel.accessAllowed ? 'block' : 'none';\n",
              "\n",
              "      async function convertToInteractive(key) {\n",
              "        const element = document.querySelector('#df-a1a233eb-6fbe-4998-9046-423e9f9f33a8');\n",
              "        const dataTable =\n",
              "          await google.colab.kernel.invokeFunction('convertToInteractive',\n",
              "                                                    [key], {});\n",
              "        if (!dataTable) return;\n",
              "\n",
              "        const docLinkHtml = 'Like what you see? Visit the ' +\n",
              "          '<a target=\"_blank\" href=https://colab.research.google.com/notebooks/data_table.ipynb>data table notebook</a>'\n",
              "          + ' to learn more about interactive tables.';\n",
              "        element.innerHTML = '';\n",
              "        dataTable['output_type'] = 'display_data';\n",
              "        await google.colab.output.renderOutput(dataTable, element);\n",
              "        const docLink = document.createElement('div');\n",
              "        docLink.innerHTML = docLinkHtml;\n",
              "        element.appendChild(docLink);\n",
              "      }\n",
              "    </script>\n",
              "  </div>\n",
              "\n",
              "\n",
              "<div id=\"df-ce0db7c7-6da5-4200-9aa3-78e3b70fcfff\">\n",
              "  <button class=\"colab-df-quickchart\" onclick=\"quickchart('df-ce0db7c7-6da5-4200-9aa3-78e3b70fcfff')\"\n",
              "            title=\"Suggest charts\"\n",
              "            style=\"display:none;\">\n",
              "\n",
              "<svg xmlns=\"http://www.w3.org/2000/svg\" height=\"24px\"viewBox=\"0 0 24 24\"\n",
              "     width=\"24px\">\n",
              "    <g>\n",
              "        <path d=\"M19 3H5c-1.1 0-2 .9-2 2v14c0 1.1.9 2 2 2h14c1.1 0 2-.9 2-2V5c0-1.1-.9-2-2-2zM9 17H7v-7h2v7zm4 0h-2V7h2v10zm4 0h-2v-4h2v4z\"/>\n",
              "    </g>\n",
              "</svg>\n",
              "  </button>\n",
              "\n",
              "<style>\n",
              "  .colab-df-quickchart {\n",
              "      --bg-color: #E8F0FE;\n",
              "      --fill-color: #1967D2;\n",
              "      --hover-bg-color: #E2EBFA;\n",
              "      --hover-fill-color: #174EA6;\n",
              "      --disabled-fill-color: #AAA;\n",
              "      --disabled-bg-color: #DDD;\n",
              "  }\n",
              "\n",
              "  [theme=dark] .colab-df-quickchart {\n",
              "      --bg-color: #3B4455;\n",
              "      --fill-color: #D2E3FC;\n",
              "      --hover-bg-color: #434B5C;\n",
              "      --hover-fill-color: #FFFFFF;\n",
              "      --disabled-bg-color: #3B4455;\n",
              "      --disabled-fill-color: #666;\n",
              "  }\n",
              "\n",
              "  .colab-df-quickchart {\n",
              "    background-color: var(--bg-color);\n",
              "    border: none;\n",
              "    border-radius: 50%;\n",
              "    cursor: pointer;\n",
              "    display: none;\n",
              "    fill: var(--fill-color);\n",
              "    height: 32px;\n",
              "    padding: 0;\n",
              "    width: 32px;\n",
              "  }\n",
              "\n",
              "  .colab-df-quickchart:hover {\n",
              "    background-color: var(--hover-bg-color);\n",
              "    box-shadow: 0 1px 2px rgba(60, 64, 67, 0.3), 0 1px 3px 1px rgba(60, 64, 67, 0.15);\n",
              "    fill: var(--button-hover-fill-color);\n",
              "  }\n",
              "\n",
              "  .colab-df-quickchart-complete:disabled,\n",
              "  .colab-df-quickchart-complete:disabled:hover {\n",
              "    background-color: var(--disabled-bg-color);\n",
              "    fill: var(--disabled-fill-color);\n",
              "    box-shadow: none;\n",
              "  }\n",
              "\n",
              "  .colab-df-spinner {\n",
              "    border: 2px solid var(--fill-color);\n",
              "    border-color: transparent;\n",
              "    border-bottom-color: var(--fill-color);\n",
              "    animation:\n",
              "      spin 1s steps(1) infinite;\n",
              "  }\n",
              "\n",
              "  @keyframes spin {\n",
              "    0% {\n",
              "      border-color: transparent;\n",
              "      border-bottom-color: var(--fill-color);\n",
              "      border-left-color: var(--fill-color);\n",
              "    }\n",
              "    20% {\n",
              "      border-color: transparent;\n",
              "      border-left-color: var(--fill-color);\n",
              "      border-top-color: var(--fill-color);\n",
              "    }\n",
              "    30% {\n",
              "      border-color: transparent;\n",
              "      border-left-color: var(--fill-color);\n",
              "      border-top-color: var(--fill-color);\n",
              "      border-right-color: var(--fill-color);\n",
              "    }\n",
              "    40% {\n",
              "      border-color: transparent;\n",
              "      border-right-color: var(--fill-color);\n",
              "      border-top-color: var(--fill-color);\n",
              "    }\n",
              "    60% {\n",
              "      border-color: transparent;\n",
              "      border-right-color: var(--fill-color);\n",
              "    }\n",
              "    80% {\n",
              "      border-color: transparent;\n",
              "      border-right-color: var(--fill-color);\n",
              "      border-bottom-color: var(--fill-color);\n",
              "    }\n",
              "    90% {\n",
              "      border-color: transparent;\n",
              "      border-bottom-color: var(--fill-color);\n",
              "    }\n",
              "  }\n",
              "</style>\n",
              "\n",
              "  <script>\n",
              "    async function quickchart(key) {\n",
              "      const quickchartButtonEl =\n",
              "        document.querySelector('#' + key + ' button');\n",
              "      quickchartButtonEl.disabled = true;  // To prevent multiple clicks.\n",
              "      quickchartButtonEl.classList.add('colab-df-spinner');\n",
              "      try {\n",
              "        const charts = await google.colab.kernel.invokeFunction(\n",
              "            'suggestCharts', [key], {});\n",
              "      } catch (error) {\n",
              "        console.error('Error during call to suggestCharts:', error);\n",
              "      }\n",
              "      quickchartButtonEl.classList.remove('colab-df-spinner');\n",
              "      quickchartButtonEl.classList.add('colab-df-quickchart-complete');\n",
              "    }\n",
              "    (() => {\n",
              "      let quickchartButtonEl =\n",
              "        document.querySelector('#df-ce0db7c7-6da5-4200-9aa3-78e3b70fcfff button');\n",
              "      quickchartButtonEl.style.display =\n",
              "        google.colab.kernel.accessAllowed ? 'block' : 'none';\n",
              "    })();\n",
              "  </script>\n",
              "</div>\n",
              "    </div>\n",
              "  </div>\n"
            ]
          },
          "metadata": {},
          "execution_count": 2
        }
      ],
      "source": [
        "# Menampilkan mapping data\n",
        "data = pd.read_csv('/content/data.csv', delimiter=',')\n",
        "label = pd.get_dummies(data.label)\n",
        "unique_labels = data['label'].unique()\n",
        "size_unique_labels = len(unique_labels)\n",
        "new_data = pd.concat([data, label], axis=1)\n",
        "new_data = new_data.drop(columns=['label'])\n",
        "new_data"
      ]
    },
    {
      "cell_type": "markdown",
      "metadata": {
        "id": "xzYUe_jV_9Rf"
      },
      "source": [
        "### 3. Tokenisasi dan Sequential"
      ]
    },
    {
      "cell_type": "code",
      "execution_count": 3,
      "metadata": {
        "colab": {
          "base_uri": "https://localhost:8080/"
        },
        "id": "7R1ISpMg4bb1",
        "outputId": "7eb7d4a0-b072-4dd6-a466-790fee4311b4"
      },
      "outputs": [
        {
          "output_type": "stream",
          "name": "stdout",
          "text": [
            "Model: \"sequential\"\n",
            "_________________________________________________________________\n",
            " Layer (type)                Output Shape              Param #   \n",
            "=================================================================\n",
            " embedding (Embedding)       (None, None, 16)          80000     \n",
            "                                                                 \n",
            " lstm (LSTM)                 (None, 64)                20736     \n",
            "                                                                 \n",
            " dense (Dense)               (None, 128)               8320      \n",
            "                                                                 \n",
            " dense_1 (Dense)             (None, 64)                8256      \n",
            "                                                                 \n",
            " dense_2 (Dense)             (None, 6)                 390       \n",
            "                                                                 \n",
            "=================================================================\n",
            "Total params: 117702 (459.77 KB)\n",
            "Trainable params: 117702 (459.77 KB)\n",
            "Non-trainable params: 0 (0.00 Byte)\n",
            "_________________________________________________________________\n"
          ]
        }
      ],
      "source": [
        "sentence = new_data['text'].values\n",
        "label = new_data[unique_labels].values\n",
        "sentence_latih, sentence_test, label_latih, label_test = train_test_split(sentence, label, test_size = 0.2)\n",
        "\n",
        "# Tokenizer\n",
        "tokenizer = Tokenizer(num_words=5000, oov_token='x')\n",
        "tokenizer.fit_on_texts(sentence_latih)\n",
        "tokenizer.fit_on_texts(sentence_test)\n",
        "\n",
        "sequences_latih = tokenizer.texts_to_sequences(sentence_latih)\n",
        "sequences_test = tokenizer.texts_to_sequences(sentence_test)\n",
        "\n",
        "padded_latih = pad_sequences(sequences_latih)\n",
        "padded_test = pad_sequences(sequences_test)\n",
        "\n",
        "# Sequential\n",
        "model = tf.keras.Sequential([\n",
        "    tf.keras.layers.Embedding(input_dim = 5000, output_dim=16),\n",
        "    tf.keras.layers.LSTM(64),\n",
        "    tf.keras.layers.Dense(128, activation='relu'),\n",
        "    tf.keras.layers.Dense(64, activation='relu'),\n",
        "    tf.keras.layers.Dense(size_unique_labels, activation='softmax'),\n",
        "])\n",
        "\n",
        "model.compile(\n",
        "  loss='categorical_crossentropy',\n",
        "  optimizer='adam',\n",
        "  metrics=['accuracy'],\n",
        ")\n",
        "model.summary()"
      ]
    },
    {
      "cell_type": "markdown",
      "metadata": {
        "id": "R-hfgEiZXpve"
      },
      "source": [
        "## 4. Modeling"
      ]
    },
    {
      "cell_type": "code",
      "execution_count": 14,
      "metadata": {
        "colab": {
          "base_uri": "https://localhost:8080/"
        },
        "id": "bvxK-aSBY04e",
        "outputId": "b5816a63-a0c6-4e31-c070-7eaebc9c8101"
      },
      "outputs": [
        {
          "output_type": "stream",
          "name": "stdout",
          "text": [
            "Epoch 1/30\n",
            "400/400 - 13s - loss: 0.0113 - accuracy: 0.9956 - val_loss: 0.6167 - val_accuracy: 0.8956 - 13s/epoch - 32ms/step\n",
            "Epoch 2/30\n",
            "400/400 - 13s - loss: 0.0129 - accuracy: 0.9949 - val_loss: 0.6319 - val_accuracy: 0.8972 - 13s/epoch - 33ms/step\n",
            "Epoch 3/30\n",
            "400/400 - 14s - loss: 0.0119 - accuracy: 0.9955 - val_loss: 0.6584 - val_accuracy: 0.8966 - 14s/epoch - 35ms/step\n",
            "Epoch 4/30\n",
            "400/400 - 13s - loss: 0.0103 - accuracy: 0.9956 - val_loss: 0.6736 - val_accuracy: 0.8997 - 13s/epoch - 32ms/step\n",
            "Epoch 5/30\n",
            "400/400 - 13s - loss: 0.0130 - accuracy: 0.9948 - val_loss: 0.5643 - val_accuracy: 0.8884 - 13s/epoch - 34ms/step\n",
            "Epoch 6/30\n",
            "400/400 - 12s - loss: 0.0143 - accuracy: 0.9948 - val_loss: 0.6263 - val_accuracy: 0.8984 - 12s/epoch - 31ms/step\n",
            "Epoch 7/30\n",
            "400/400 - 12s - loss: 0.0106 - accuracy: 0.9959 - val_loss: 0.7484 - val_accuracy: 0.8950 - 12s/epoch - 29ms/step\n",
            "Epoch 8/30\n",
            "\n",
            "Nilai akurasi telah mencapai 90%\n",
            "400/400 - 12s - loss: 0.0098 - accuracy: 0.9962 - val_loss: 0.6425 - val_accuracy: 0.9031 - 12s/epoch - 31ms/step\n"
          ]
        }
      ],
      "source": [
        "# Callback\n",
        "class accuracyCallback(tf.keras.callbacks.Callback):\n",
        "  def on_epoch_end(self, epoch, logs={}):\n",
        "    if(logs.get('accuracy') > 0.90 and logs.get('val_accuracy') > 0.90):\n",
        "      print('\\nNilai akurasi telah mencapai 90%')\n",
        "      self.model.stop_training = True\n",
        "\n",
        "callbacks = accuracyCallback()\n",
        "\n",
        "history = model.fit(\n",
        "  padded_latih,\n",
        "  label_latih,\n",
        "  epochs=30,\n",
        "  validation_data=(padded_test, label_test),\n",
        "  verbose=2,\n",
        "  callbacks=[callbacks],\n",
        ")"
      ]
    },
    {
      "cell_type": "markdown",
      "metadata": {
        "id": "9ZUx0A-bdfNG"
      },
      "source": [
        "## 5. Plot"
      ]
    },
    {
      "cell_type": "code",
      "execution_count": 15,
      "metadata": {
        "colab": {
          "base_uri": "https://localhost:8080/",
          "height": 487
        },
        "id": "Y1yn-8YSdpmh",
        "outputId": "a1e2fa77-2bde-4d41-c4ff-df34a5a1678c"
      },
      "outputs": [
        {
          "output_type": "display_data",
          "data": {
            "text/plain": [
              "<Figure size 800x500 with 1 Axes>"
            ],
            "image/png": "[encoded data removed]"
          },
          "metadata": {}
        }
      ],
      "source": [
        "# Membuat plot model accuracy\n",
        "plt.figure(figsize=(8,5))\n",
        "plt.plot(history.history['accuracy'], label='train_accuracy')\n",
        "plt.plot(history.history['val_accuracy'], label='validation_accuracy')\n",
        "plt.title('Model Accuracy')\n",
        "plt.xlabel('Epochs')\n",
        "plt.ylabel('Accuracy')\n",
        "plt.legend()\n",
        "plt.ylim(ymin=0, ymax=1)\n",
        "plt.show()"
      ]
    },
    {
      "cell_type": "code",
      "execution_count": 16,
      "metadata": {
        "colab": {
          "base_uri": "https://localhost:8080/",
          "height": 487
        },
        "id": "30-VkH1DQRKd",
        "outputId": "680ffffb-2d15-42f8-91a4-1425cb8f899d"
      },
      "outputs": [
        {
          "output_type": "display_data",
          "data": {
            "text/plain": [
              "<Figure size 800x500 with 1 Axes>"
            ],
            "image/png": "[encoded data removed]"
          },
          "metadata": {}
        }
      ],
      "source": [
        "# Membuat plot model lost\n",
        "plt.figure(figsize=(8,5))\n",
        "plt.plot(history.history['loss'], label='train_loss')\n",
        "plt.plot(history.history['val_loss'], label='validation_loss')\n",
        "plt.title('Model Loss')\n",
        "plt.xlabel('Epochs')\n",
        "plt.ylabel('Loss')\n",
        "plt.legend()\n",
        "plt.ylim(ymin=0)\n",
        "plt.show()"
      ]
    }
  ],
  "metadata": {
    "accelerator": "GPU",
    "colab": {
      "provenance": [],
      "gpuType": "T4"
    },
    "kernelspec": {
      "display_name": "Python 3",
      "name": "python3"
    },
    "language_info": {
      "name": "python"
    }
  },
  "nbformat": 4,
  "nbformat_minor": 0
}